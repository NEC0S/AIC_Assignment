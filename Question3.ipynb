{
 "cells": [
  {
   "cell_type": "markdown",
   "metadata": {},
   "source": [
    "### **Assume a 2D Grid of constrained straight interlocking paths with well defined start and end points. What metric should you use to compare distances between any two different paths? Why is it better than other metrics available? List out some of the other metrics.**"
   ]
  },
  {
   "cell_type": "markdown",
   "metadata": {},
   "source": [
    "When comparing distances between different paths in a 2D grid of constrained straight interlocking paths, the most appropriate metric would likely be the **Manhattan distance**, also known as the L1 distance or taxicab distance. This distance metric measures the distance between two points along the axes at right angle.\n",
    "\n",
    "Other Metric\n",
    "\n",
    "Euclidean Distance(L2):\n",
    "\n",
    "Euclidean distance is the straight-line distance between two points in Euclidean space. It measures the length of the shortest path between two points. In a 2D grid, it calculates the diagonal distance between points, which might not be suitable for constrained paths where movement is limited to horizontal and vertical steps.\n",
    "\n",
    "Minkowski Distance:\n",
    "\n",
    "Minkowski distance is a generalization of both Euclidean and Manhattan distances. It allows for adjusting a parameter pp, where p=1p=1 gives Manhattan distance, p=2p=2 gives Euclidean distance, and other values give different weighting to dimensions. However, in a grid environment, adjusting pp may not provide significant advantages over using Manhattan distance.\n",
    "\n",
    "Chebyshev Distance:\n",
    "\n",
    "Chebyshev distance, also known as chessboard distance, measures the maximum distance along any coordinate axis. It allows for horizontal, vertical, and diagonal movements. While it's more flexible than Manhattan distance in terms of possible movements, it may not accurately represent path lengths in constrained grid environments.\n",
    "\n",
    "Cosine Distance:\n",
    "\n",
    "Cosine distance measures the cosine of the angle between two vectors. It is often used in high-dimensional spaces to measure the similarity between vectors. In a 2D grid context, it might not be directly applicable for comparing paths unless the paths are represented as vectors of features.\n"
   ]
  },
  {
   "cell_type": "markdown",
   "metadata": {},
   "source": [
    "### **While researching on Transformers you learn about embeddings and how words are transformed into Numerical Vectors of High dimensional space, and stored on what basis the ‘likeliness’ of any two vectors are. For eg. words like ‘happiness’, ‘success’ are more alike to each other on the contrary ‘sadness’ , ‘failure’ are alike to each other but opposite to ‘happiness’, ‘success’ .**\n",
    "\n",
    "#### **What is the common criterion used to define this ‘likeliness’ mathematically between any two words? Hint : In Higher Dimensional Spaces euclidean distances fall short !**\n",
    "\n",
    "#### **Generate a corpus of words then convert these words into embeddings then using this criterion plot these embeddings in 3D space (for simplicity).** \n",
    "\n",
    "#### **Use any Relevant Python Libraries to do the computations and metric definitions. Use Plotly.js Python Library to generate the visualizations.**\n",
    " \n"
   ]
  },
  {
   "cell_type": "markdown",
   "metadata": {},
   "source": [
    "The common criterion used to define the \"likeness\" between any two words in embedding spaces is **cosine similarity**. Cosine similarity is a metric that measures the cosine of the angle between two vectors, providing a measure of similarity regardless of their magnitudes. \n",
    "\n",
    "so, Each word in the vocabulary is represented as a high-dimensional numerical vector, where each dimension corresponds to some aspect of the word's meaning or context. These vectors are typically obtained through some techniques.Compute the dot product of the two vectors AA and BB. The dot product measures the similarity in direction between the vectors. It is computed as the sum of the products of the corresponding components of the two vectors.Calculate the magnitude (or Euclidean norm) of each vector. The magnitude represents the length of the vector in the high-dimensional space, and Divide the dot product of the vectors by the product of their magnitudes to obtain the cosine of the angle between them. This normalized value ranges from -1 to 1, where 1 indicates that the vectors are in the same direction (i.e., highly similar), 0 indicates orthogonality (i.e., no similarity), and -1 indicates they are in opposite directions (i.e., highly dissimilar)."
   ]
  },
  {
   "cell_type": "markdown",
   "metadata": {},
   "source": [
    "# **Non-Technical Questions**"
   ]
  },
  {
   "cell_type": "markdown",
   "metadata": {},
   "source": [
    "### **Write a detailed timeline of how you would prepare for an Upcoming AI Based Hackathon (let’s say 1 month), that we as AIC are going to take part in. Take into consideration every tiny detail both technical like - Datasets , Preprocessing Techniques, EDA, Models , Compute etc. Take up a problem statement as per your discretion and formulate it Quantitatively. Use 500 words Minimum (Graphs, Plots, Graphics etc. are optional)**"
   ]
  },
  {
   "cell_type": "markdown",
   "metadata": {},
   "source": [
    "# Foracsting Heat demand in a District (One of my projects in ME228 Course)\n",
    "\n",
    "## Objective\n",
    "The objective of this project is to build a machine learning model to predict Heat at different conditons and we have to give suggestion for optimum allocation of resoures.\n",
    "## This is How we approach the problem.\n",
    "\n",
    "### Understanding the Problem and Initial Setup\n",
    "-   Problem Understanding\n",
    "  - Review hackathon rules and guidelines.\n",
    "  - Define target variable (In our case it was heat)\n",
    "  - Identify key metrics\n",
    "  - Decide which model we are going to try\n",
    "  \n",
    "  \n",
    "- **Data**: Data Collection and Storage\n",
    "  - Store data in a secure cloud storage.\n",
    "  - Initial Data Exploration and Cleaning\n",
    "  - Load data into Jupyter Notebook.\n",
    "  - Check for missing values, inconsistencies, and outliers.\n",
    "  - Generate basic statistical summaries.(We xan do little bit of EDA also)\n",
    "\n",
    "### Data Preprocessing and Feature Engineering\n",
    "- Data Preprocessing\n",
    "  - Handle missing values.\n",
    "  - Normalize/Standardize numerical features.\n",
    "  - Encode categorical variables.\n",
    "\n",
    "-   Feature Engineering\n",
    "  - Create new features.\n",
    "  - Select relevant features\n",
    "\n",
    "- Exploratory Data Analysis (EDA),Plot distibution, If there some addrupt change correct it \n",
    "  - Perform univariate and bivariate analysis.\n",
    "  - Identify and remove multicollinear features.\n",
    "\n",
    "### Model Development and Training\n",
    "Here we decide to Different people work on different model we have taken some simple and some complex model to test.\n",
    "\n",
    "-  Baseline Model Development\n",
    "  - Implement simple models.\n",
    "  - Evaluate baseline models using cross-validation.\n",
    "- Check how model is performing on simple models.\n",
    "\n",
    "  - Experiment with complex models.\n",
    "  - Use hyperparameter tuning techniques.\n",
    "\n",
    "**Most Important**\n",
    "\n",
    "-  Model Evaluation and Selection\n",
    "  - Evaluate models on validation set.\n",
    "  - Select the best-performing model.\n",
    "\n",
    "\n",
    "### Model Optimization and Finalization\n",
    "-  Model Optimization\n",
    "  - Apply techniques for optimization.\n",
    "\n",
    "- Validation and Testing\n",
    "  - Validate the model on the test set.\n",
    "  - Analyze model performance.\n",
    "\n",
    "-  Documentation and Presentation Preparation\n",
    "  - Document the process.\n",
    "  - Prepare slides for presentation.\n",
    "\n",
    "-  Final Touches and Submission\n",
    "  - Review all deliverables.\n",
    "  - Submit the project.\n"
   ]
  },
  {
   "cell_type": "markdown",
   "metadata": {},
   "source": [
    "## **Write an SOP (Statement of Purpose) for joining the Artificial Intelligence Community - This Should include your goals, motivation, knowledge etc.**\n"
   ]
  },
  {
   "cell_type": "markdown",
   "metadata": {},
   "source": [
    "I'm really excited about joining the Artificial Intelligence community, As of now my goal is to have a career in AI where I can use my skills to make a difference in differnt sectors. I'm particularly interested in areas like machine learning, natural language processing, and computer vision. I want to learn as much as I can and work with others to come up with new ideas and solutions.I'm eager to learn from the best people in the field in the institute.It might be possible that I may not be proficient in every aspect of AI-ML, may be I am not familiar with the best practices and techniques use in industries, but I am eager to learn and grow with the support of the team"
   ]
  }
 ],
 "metadata": {
  "kernelspec": {
   "display_name": "Python 3",
   "language": "python",
   "name": "python3"
  },
  "language_info": {
   "codemirror_mode": {
    "name": "ipython",
    "version": 3
   },
   "file_extension": ".py",
   "mimetype": "text/x-python",
   "name": "python",
   "nbconvert_exporter": "python",
   "pygments_lexer": "ipython3",
   "version": "3.8.10"
  }
 },
 "nbformat": 4,
 "nbformat_minor": 2
}
